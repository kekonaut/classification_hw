{
  "nbformat": 4,
  "nbformat_minor": 0,
  "metadata": {
    "kernelspec": {
      "display_name": "Python 3",
      "language": "python",
      "name": "python3"
    },
    "language_info": {
      "codemirror_mode": {
        "name": "ipython",
        "version": 3
      },
      "file_extension": ".py",
      "mimetype": "text/x-python",
      "name": "python",
      "nbconvert_exporter": "python",
      "pygments_lexer": "ipython3",
      "version": "3.6.9"
    },
    "colab": {
      "name": "Task_2.ipynb",
      "provenance": [],
      "collapsed_sections": []
    }
  },
  "cells": [
    {
      "cell_type": "code",
      "metadata": {
        "id": "rrG3gUZIPbwu"
      },
      "source": [
        "import numpy as np\n",
        "import scipy as sp\n",
        "import matplotlib.pyplot as plt\n",
        "import seaborn as sns\n",
        "\n",
        "%matplotlib inline"
      ],
      "execution_count": null,
      "outputs": []
    },
    {
      "cell_type": "markdown",
      "metadata": {
        "id": "xKhW6ZMbPbwu"
      },
      "source": [
        "# 1. Работа с массивами NumPy"
      ]
    },
    {
      "cell_type": "markdown",
      "metadata": {
        "id": "1pgfU-QtPbwv"
      },
      "source": [
        "**N. Все упражнения ниже нужно делать без использования циклов Python**\n",
        "\n",
        "**1.** Cоздать вектор\n",
        "\n",
        "$$(2, \\frac{2^2}{2}, \\ldots, \\frac{2^{20}}{20})$$\n",
        "\n",
        "Можно использовать функции [np.arange()](http://docs.scipy.org/doc/numpy/reference/generated/numpy.arange.html), [np.ones()](http://docs.scipy.org/doc/numpy/reference/generated/numpy.ones.html)"
      ]
    },
    {
      "cell_type": "code",
      "metadata": {
        "colab": {
          "base_uri": "https://localhost:8080/"
        },
        "id": "uPhwOrDKPbwv",
        "outputId": "d508a9bd-5c3b-477b-f9c9-f97288fa1ba0"
      },
      "source": [
        "vector = np.ones(20)*2**np.arange(1,21)/np.arange(1,21)\n",
        "vector"
      ],
      "execution_count": null,
      "outputs": [
        {
          "output_type": "execute_result",
          "data": {
            "text/plain": [
              "array([2.00000000e+00, 2.00000000e+00, 2.66666667e+00, 4.00000000e+00,\n",
              "       6.40000000e+00, 1.06666667e+01, 1.82857143e+01, 3.20000000e+01,\n",
              "       5.68888889e+01, 1.02400000e+02, 1.86181818e+02, 3.41333333e+02,\n",
              "       6.30153846e+02, 1.17028571e+03, 2.18453333e+03, 4.09600000e+03,\n",
              "       7.71011765e+03, 1.45635556e+04, 2.75941053e+04, 5.24288000e+04])"
            ]
          },
          "metadata": {
            "tags": []
          },
          "execution_count": 4
        }
      ]
    },
    {
      "cell_type": "markdown",
      "metadata": {
        "id": "Jzps6waqPbwv"
      },
      "source": [
        "**2.** Посчитать:\n",
        "\n",
        "$$\\sum\\limits_{i=0}^{5}{0.1^{3i}0.2^{4i}}$$\n"
      ]
    },
    {
      "cell_type": "code",
      "metadata": {
        "colab": {
          "base_uri": "https://localhost:8080/"
        },
        "id": "YBg-a77YPbwv",
        "outputId": "b503f452-d30e-45a0-dfd6-8222e2785b51"
      },
      "source": [
        "sums = np.sum(np.ones(6)*0.1**(3*np.arange(6))*0.2**(4*np.arange(6)))\n",
        "sums"
      ],
      "execution_count": null,
      "outputs": [
        {
          "output_type": "execute_result",
          "data": {
            "text/plain": [
              "1.00000160000256"
            ]
          },
          "metadata": {
            "tags": []
          },
          "execution_count": 7
        }
      ]
    },
    {
      "cell_type": "markdown",
      "metadata": {
        "id": "GvPYDipbPbwv"
      },
      "source": [
        "**3.** Создать нулевую матрицe $8 \\times 8$, и заполнить её единицами в шахматном порядке."
      ]
    },
    {
      "cell_type": "code",
      "metadata": {
        "colab": {
          "base_uri": "https://localhost:8080/"
        },
        "id": "t99aRE1APbwv",
        "outputId": "5a93060d-da3b-4902-bcd5-a637c204d83d"
      },
      "source": [
        "array = np.zeros([8,8])\n",
        "array[1::2 , 1::2] = 1\n",
        "array[::2 , ::2] = 1\n",
        "array"
      ],
      "execution_count": null,
      "outputs": [
        {
          "output_type": "execute_result",
          "data": {
            "text/plain": [
              "array([[1., 0., 1., 0., 1., 0., 1., 0.],\n",
              "       [0., 1., 0., 1., 0., 1., 0., 1.],\n",
              "       [1., 0., 1., 0., 1., 0., 1., 0.],\n",
              "       [0., 1., 0., 1., 0., 1., 0., 1.],\n",
              "       [1., 0., 1., 0., 1., 0., 1., 0.],\n",
              "       [0., 1., 0., 1., 0., 1., 0., 1.],\n",
              "       [1., 0., 1., 0., 1., 0., 1., 0.],\n",
              "       [0., 1., 0., 1., 0., 1., 0., 1.]])"
            ]
          },
          "metadata": {
            "tags": []
          },
          "execution_count": 15
        }
      ]
    },
    {
      "cell_type": "markdown",
      "metadata": {
        "id": "rl8PfNwvPbwv"
      },
      "source": [
        "**4.** Есть 5 точек в декартовой системе координат (в виде матрицы $X$ размерностью $5 \\times 2$), сконвертируйте эти точки в полярную систему координат."
      ]
    },
    {
      "cell_type": "code",
      "metadata": {
        "colab": {
          "base_uri": "https://localhost:8080/"
        },
        "id": "Vr9Pptq3Pbwv",
        "outputId": "483df9b1-e5c4-437f-e293-189bfd49f1f2"
      },
      "source": [
        "X = np.random.random((5, 2))\n",
        "r=np.sqrt(X[:,0]**2+ X[:,1]**2)\n",
        "p = np.array([r,np.arccos(X[:,0]/r)]).T\n",
        "p"
      ],
      "execution_count": null,
      "outputs": [
        {
          "output_type": "execute_result",
          "data": {
            "text/plain": [
              "array([[0.72818118, 0.18004834],\n",
              "       [0.45970355, 1.21948297],\n",
              "       [1.36982409, 0.7698727 ],\n",
              "       [0.90439494, 0.6327994 ],\n",
              "       [1.00067217, 1.1540127 ]])"
            ]
          },
          "metadata": {
            "tags": []
          },
          "execution_count": 30
        }
      ]
    },
    {
      "cell_type": "markdown",
      "metadata": {
        "id": "VU3bn2z0Pbwv"
      },
      "source": [
        "**5.** Найдите индексы максимального элемента в случайной матрице $10 \\times 10$.\n",
        "\n",
        "Cм. [np.argmax()](http://docs.scipy.org/doc/numpy/reference/generated/numpy.argmax.html)."
      ]
    },
    {
      "cell_type": "code",
      "metadata": {
        "colab": {
          "base_uri": "https://localhost:8080/"
        },
        "id": "X_M2ViUqPbwv",
        "outputId": "c9d0adaa-b831-4760-9b3a-6b344e7228ca"
      },
      "source": [
        "X = np.random.random((10, 10))\n",
        "print(X)\n",
        "max = np.unravel_index(np.argmax(X),X.shape)\n",
        "max\n",
        "\n"
      ],
      "execution_count": null,
      "outputs": [
        {
          "output_type": "stream",
          "text": [
            "[[0.63425402 0.86502231 0.79271207 0.70672093 0.53475074 0.76394047\n",
            "  0.1333636  0.30859278 0.71767384 0.87725731]\n",
            " [0.41999036 0.25529289 0.98115983 0.37353562 0.08919324 0.03397953\n",
            "  0.06331034 0.26136179 0.39752713 0.72505388]\n",
            " [0.15148749 0.79288684 0.33178478 0.14878943 0.31226305 0.97729798\n",
            "  0.24776224 0.24388603 0.32856088 0.40502253]\n",
            " [0.61432247 0.65306147 0.07325705 0.40506491 0.53195684 0.78278826\n",
            "  0.50834135 0.31637766 0.58819891 0.93679534]\n",
            " [0.14639067 0.34340335 0.03420021 0.89179269 0.26244688 0.31717146\n",
            "  0.75991261 0.03489356 0.58134091 0.85220077]\n",
            " [0.92662965 0.97099524 0.26565046 0.79288696 0.5624216  0.67949003\n",
            "  0.42220745 0.34359961 0.94210864 0.30410092]\n",
            " [0.34976465 0.55422503 0.84407291 0.67919547 0.78800825 0.75541624\n",
            "  0.68359516 0.37534822 0.12129546 0.39401033]\n",
            " [0.78297991 0.21406193 0.28073746 0.08912057 0.31236953 0.71286751\n",
            "  0.12926057 0.6185299  0.11846003 0.9027477 ]\n",
            " [0.77336957 0.57236119 0.36693574 0.71077124 0.72688822 0.05458842\n",
            "  0.37017982 0.36401344 0.64079289 0.8693458 ]\n",
            " [0.22726355 0.25023005 0.88931563 0.70497119 0.13151523 0.36988532\n",
            "  0.73895721 0.59019761 0.69653836 0.95684024]]\n"
          ],
          "name": "stdout"
        },
        {
          "output_type": "execute_result",
          "data": {
            "text/plain": [
              "(1, 2)"
            ]
          },
          "metadata": {
            "tags": []
          },
          "execution_count": 33
        }
      ]
    },
    {
      "cell_type": "markdown",
      "metadata": {
        "id": "3ln9b3xiPbwv"
      },
      "source": [
        "**6.** Есть 10 точек ($X$) и ещё одна ($y$). Найти в $X$ ближайшую к $y$ точку."
      ]
    },
    {
      "cell_type": "code",
      "metadata": {
        "colab": {
          "base_uri": "https://localhost:8080/"
        },
        "id": "rAhEGGmQPbwv",
        "outputId": "29925e11-e20f-475d-ac58-048b1067c86c"
      },
      "source": [
        "X = np.random.random((10, 2))\n",
        "y = np.random.random((1, 2))\n",
        "lin_norm = np.sqrt((X[:,0]- y[:,0])**2*(X[:,1]- y[:,1])**2)\n",
        "np.argmin(lin_norm)\n",
        "\n"
      ],
      "execution_count": null,
      "outputs": [
        {
          "output_type": "execute_result",
          "data": {
            "text/plain": [
              "1"
            ]
          },
          "metadata": {
            "tags": []
          },
          "execution_count": 45
        }
      ]
    },
    {
      "cell_type": "markdown",
      "metadata": {
        "id": "fLtpvJ4lPbwv"
      },
      "source": [
        "**7.** Дана функция:\n",
        "\n",
        "$$\n",
        " \\begin{cases}\n",
        "    x^2 + 2x + 6, & x < 0  \\\\\n",
        "    x + 6, & 0 \\le x \\le 2 \\\\\n",
        "    x^2 + 4x - 4, & x \\ge 2\n",
        " \\end{cases}\n",
        "$$\n",
        "\n",
        "Постройте массив из её значений на  $-3 \\le x \\le 3$."
      ]
    },
    {
      "cell_type": "code",
      "metadata": {
        "colab": {
          "base_uri": "https://localhost:8080/"
        },
        "id": "Rh7HBKyEPbwv",
        "outputId": "9eb57cdc-1f45-49d3-a930-42eab6d54033"
      },
      "source": [
        "import random\n",
        "x = np.array([random.uniform(-3,3) for i in range(20)])\n",
        "x1 = x[x<0]**2+2*x[x<0]+6\n",
        "x2 = x[(x>=0)&(x<=2)]+6\n",
        "x3 = x[x>=2]**2 +4*x[x>=2]-4\n",
        "np.concatenate([x1,x2,x3])\n"
      ],
      "execution_count": null,
      "outputs": [
        {
          "output_type": "stream",
          "text": [
            "[ 2.90905931 -1.76091742 -1.87003066 -0.91290253  2.26025635 -2.57501715\n",
            " -0.1955666  -1.62191836 -2.51810782  2.66304994  0.62578652 -2.95818774\n",
            "  1.67729132  1.39317706 -0.22894658 -2.82743599  0.46939343 -0.60884962\n",
            "  1.42807743  0.80523158]\n"
          ],
          "name": "stdout"
        },
        {
          "output_type": "execute_result",
          "data": {
            "text/plain": [
              "array([ 5.57899532,  5.75695335,  5.00758597,  7.48067901,  5.64711309,\n",
              "        5.38678244,  7.30465136,  8.83449923,  5.59452337,  8.33952231,\n",
              "        5.15299862,  6.62578652,  7.67729132,  7.39317706,  6.46939343,\n",
              "        7.42807743,  6.80523158, 16.09886332, 10.14978421, 13.7440347 ])"
            ]
          },
          "metadata": {
            "tags": []
          },
          "execution_count": 23
        }
      ]
    },
    {
      "cell_type": "markdown",
      "metadata": {
        "id": "4sRf3MxBPbwv"
      },
      "source": [
        "**8.** Из каждого элемента матрицы вычесть среднее арифметическое от всех элементов в соответствующей строке (после чего среднее значение каждой строки должно равняться нулю).\n",
        "\n",
        "Cм. [np.mean()](http://docs.scipy.org/doc/numpy/reference/generated/numpy.mean.html)."
      ]
    },
    {
      "cell_type": "code",
      "metadata": {
        "colab": {
          "base_uri": "https://localhost:8080/"
        },
        "id": "gxg1rgdLPbwv",
        "outputId": "b3b778a7-6fac-4d8a-822b-3af24fa29e26"
      },
      "source": [
        "X = np.random.random((10, 10))\n",
        "X - np.mean(X,axis=1)"
      ],
      "execution_count": null,
      "outputs": [
        {
          "output_type": "execute_result",
          "data": {
            "text/plain": [
              "array([[-0.35899068,  0.02944203,  0.31738356, -0.31045585,  0.09592864,\n",
              "        -0.36133158,  0.38813106, -0.03042892, -0.37806595, -0.14306606],\n",
              "       [ 0.34512409, -0.44051522,  0.42395589, -0.31396236,  0.30730047,\n",
              "        -0.08657535, -0.5492996 ,  0.13030118,  0.16015981, -0.2227178 ],\n",
              "       [-0.1050462 ,  0.28897668, -0.48518271,  0.01497755,  0.17613746,\n",
              "        -0.33865073, -0.34982172,  0.61599675,  0.38532758,  0.17181699],\n",
              "       [ 0.30447516, -0.0196721 ,  0.23007072, -0.45100378,  0.33147946,\n",
              "        -0.20008094, -0.48223289,  0.58323153, -0.52901926,  0.16581259],\n",
              "       [ 0.30539562, -0.13596709, -0.52065434,  0.27005134, -0.20597639,\n",
              "         0.41538691, -0.01373659,  0.46254047, -0.23690701,  0.03705515],\n",
              "       [ 0.33724758,  0.46003779, -0.159415  ,  0.31328827,  0.31643169,\n",
              "         0.09429626,  0.00169306, -0.33645291, -0.27961114, -0.40638686],\n",
              "       [ 0.24971234,  0.05656998,  0.02382473, -0.23022714, -0.44897575,\n",
              "         0.2500934 ,  0.01800785,  0.61751758,  0.22166685, -0.22696713],\n",
              "       [ 0.2675493 ,  0.15294431, -0.10325271, -0.03430302, -0.30633712,\n",
              "        -0.25197528, -0.41934512, -0.01413795, -0.41018299, -0.410304  ],\n",
              "       [-0.04022644,  0.16619113, -0.06185739,  0.32715003, -0.27150732,\n",
              "         0.41483919,  0.08223108,  0.31554988, -0.23144013, -0.2906576 ],\n",
              "       [ 0.3193802 , -0.12182263, -0.51301813,  0.36967175,  0.42080271,\n",
              "         0.02513224, -0.00089679,  0.51429238, -0.31064448, -0.14327412]])"
            ]
          },
          "metadata": {
            "tags": []
          },
          "execution_count": 38
        }
      ]
    },
    {
      "cell_type": "markdown",
      "metadata": {
        "id": "x928jC88Pbwv"
      },
      "source": [
        "**9.** Есть массив из 1000 чисел, полученных из генератора случайных чисел, имеющий нормальное распределение. Посчитайте выборочное среднее и выборочную дисперсию. "
      ]
    },
    {
      "cell_type": "code",
      "metadata": {
        "colab": {
          "base_uri": "https://localhost:8080/"
        },
        "id": "YEyaYGlPPbwv",
        "outputId": "e2ab89c1-fc97-446d-d4b1-8dd283d1f4dc"
      },
      "source": [
        "X = np.random.normal(loc=5, scale=2., size=1000)\n",
        "print(np.mean(X))\n",
        "print(np.var(X))"
      ],
      "execution_count": null,
      "outputs": [
        {
          "output_type": "stream",
          "text": [
            "5.015276010565441\n",
            "3.9841219692385548\n"
          ],
          "name": "stdout"
        }
      ]
    },
    {
      "cell_type": "markdown",
      "metadata": {
        "id": "KY271ebhPbwv"
      },
      "source": [
        "**10.** Создать матрицу:\n",
        "\n",
        "$$\n",
        "\\begin{pmatrix}\n",
        "0 & 1 & 2 & 3 & 4 \\\\\n",
        "1 & 2 & 3 & 4 & 0 \\\\\n",
        "2 & 3 & 4 & 0 & 1 \\\\\n",
        "3 & 4 & 0 & 1 & 2 \\\\\n",
        "4 & 0 & 1 & 2 & 3\n",
        "\\end{pmatrix}\n",
        "$$"
      ]
    },
    {
      "cell_type": "code",
      "metadata": {
        "colab": {
          "base_uri": "https://localhost:8080/"
        },
        "id": "1vrzSwYYPbwv",
        "outputId": "0e19cdb4-39f8-4a63-a27f-3c151eb1e334"
      },
      "source": [
        "X = np.zeros([5,5])\n",
        "X=np.arange(5)+X\n",
        "X=X+X.T\n",
        "right = np.rot90(np.tri(5, 5, -1 ))*(X -5)\n",
        "left = np.rot90(np.tri(5, 5, 0 ),3)* X\n",
        "left+right"
      ],
      "execution_count": null,
      "outputs": [
        {
          "output_type": "execute_result",
          "data": {
            "text/plain": [
              "array([[0., 1., 2., 3., 4.],\n",
              "       [1., 2., 3., 4., 0.],\n",
              "       [2., 3., 4., 0., 1.],\n",
              "       [3., 4., 0., 1., 2.],\n",
              "       [4., 0., 1., 2., 3.]])"
            ]
          },
          "metadata": {
            "tags": []
          },
          "execution_count": 104
        }
      ]
    },
    {
      "cell_type": "markdown",
      "metadata": {
        "id": "VoTDhCxkPbwv"
      },
      "source": [
        "**11.** Есть следующий алгоритм семплинирования, на вход функции подается вектор из целых положительных чисел и число семплов."
      ]
    },
    {
      "cell_type": "code",
      "metadata": {
        "colab": {
          "base_uri": "https://localhost:8080/"
        },
        "id": "jg9af5-GPbwv",
        "outputId": "8abc4cdf-f2a4-4aef-a887-ff435256df24"
      },
      "source": [
        "def sample(x, c):\n",
        "    assert len(x) > 0\n",
        "    \n",
        "    s = np.sum(x)\n",
        "    res = []\n",
        "    for _ in range(c):\n",
        "        val = s * np.random.random()\n",
        "        cur, idx = 0, 0        \n",
        "        while cur + x[idx] <= val:\n",
        "            cur += x[idx]\n",
        "            idx += 1\n",
        "            \n",
        "        res.append(idx)\n",
        "    return res\n",
        "\n",
        "            \n",
        "sample([50, 3, 1, 7, 20], 5)    "
      ],
      "execution_count": null,
      "outputs": [
        {
          "output_type": "execute_result",
          "data": {
            "text/plain": [
              "[0, 0, 0, 4, 0]"
            ]
          },
          "metadata": {
            "tags": []
          },
          "execution_count": 106
        }
      ]
    },
    {
      "cell_type": "markdown",
      "metadata": {
        "id": "6lQ4QP1GPbwx"
      },
      "source": [
        "Реализуйте данный алгоритм более оптимальным способом, без использования циклов."
      ]
    },
    {
      "cell_type": "code",
      "metadata": {
        "colab": {
          "base_uri": "https://localhost:8080/"
        },
        "id": "hH7V0jgQPbwx",
        "outputId": "d69b297b-1f55-4d0d-de69-cc61bf614db6"
      },
      "source": [
        "def sample(x, c):\n",
        "    s = np.sum(x)\n",
        "    val = s * np.random.random(c)\n",
        "    x = np.repeat(np.cumsum(x), c).reshape((len(x), c)) - val\n",
        "    x[x>=0] = 0\n",
        "    res = np.argmax(x,axis = 1)\n",
        "    return res\n",
        "\n",
        "x = [50, 3, 1, 7, 20]\n",
        "с = 5\n",
        "sample(x,c)"
      ],
      "execution_count": null,
      "outputs": [
        {
          "output_type": "execute_result",
          "data": {
            "text/plain": [
              "array([0, 0, 0, 0, 0])"
            ]
          },
          "metadata": {
            "tags": []
          },
          "execution_count": 21
        }
      ]
    }
  ]
}