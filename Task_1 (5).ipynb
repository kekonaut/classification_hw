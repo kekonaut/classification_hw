{
  "nbformat": 4,
  "nbformat_minor": 0,
  "metadata": {
    "kernelspec": {
      "display_name": "Python 3",
      "language": "python",
      "name": "python3"
    },
    "language_info": {
      "codemirror_mode": {
        "name": "ipython",
        "version": 3
      },
      "file_extension": ".py",
      "mimetype": "text/x-python",
      "name": "python",
      "nbconvert_exporter": "python",
      "pygments_lexer": "ipython3",
      "version": "3.6.9"
    },
    "colab": {
      "name": "Task_1.ipynb",
      "provenance": [],
      "collapsed_sections": []
    }
  },
  "cells": [
    {
      "cell_type": "markdown",
      "metadata": {
        "id": "QsLjelTmKFRW"
      },
      "source": [
        "# Задание 1\n",
        "\n",
        "[Свертка списка](https://ru.wikipedia.org/wiki/%D0%A1%D0%B2%D1%91%D1%80%D1%82%D0%BA%D0%B0_%D1%81%D0%BF%D0%B8%D1%81%D0%BA%D0%B0) -  это обобщенная операция над списком, c помощью которой можно преобразовать список в единое значение. Например, рассмотрим реализации свертки слева и свертки справа (левоассоциативную свертку и правоассоциативную свертку):"
      ]
    },
    {
      "cell_type": "code",
      "metadata": {
        "jupyter": {
          "outputs_hidden": true
        },
        "id": "gwSen9uIKFRW"
      },
      "source": [
        "def foldl(f, x0, lst):\n",
        "    if not lst:\n",
        "        return x0\n",
        "    return foldl(f, f(x0, lst[0]), lst[1:])\n",
        "\n",
        "def foldr(f, x0, lst):\n",
        "    if not lst:\n",
        "        return x0\n",
        "    return f(lst[0], foldr(f, x0, lst[1:]))"
      ],
      "execution_count": null,
      "outputs": []
    },
    {
      "cell_type": "code",
      "metadata": {
        "id": "sS_azd9QKFRW",
        "outputId": "bdb198a4-f624-4e03-e878-555537a292b2"
      },
      "source": [
        "#сумма\n",
        "foldl(lambda x, y: x + y, 0, [1, 2, 3])"
      ],
      "execution_count": null,
      "outputs": [
        {
          "output_type": "execute_result",
          "data": {
            "text/plain": [
              "6"
            ]
          },
          "metadata": {
            "tags": []
          },
          "execution_count": 3
        }
      ]
    },
    {
      "cell_type": "code",
      "metadata": {
        "id": "1UXx8Vy1KFRX",
        "outputId": "2768aa4a-1e51-4d32-db4b-c22d0b011e39"
      },
      "source": [
        "#конкатенация\n",
        "foldl(lambda x, y: '{}{}'.format(x, y), '', [1, 2, 3])"
      ],
      "execution_count": null,
      "outputs": [
        {
          "output_type": "execute_result",
          "data": {
            "text/plain": [
              "'123'"
            ]
          },
          "metadata": {
            "tags": []
          },
          "execution_count": 4
        }
      ]
    },
    {
      "cell_type": "code",
      "metadata": {
        "id": "Bq_saak-KFRX",
        "outputId": "0ca3a1b0-a28d-436c-94d3-7d455a365f58"
      },
      "source": [
        "f = lambda x, y: x / y\n",
        "foldl(f, 1, [1, 2, 3]), \\\n",
        "foldr(f, 1, [1, 2, 3])"
      ],
      "execution_count": null,
      "outputs": [
        {
          "output_type": "execute_result",
          "data": {
            "text/plain": [
              "(0.16666666666666666, 1.5)"
            ]
          },
          "metadata": {
            "tags": []
          },
          "execution_count": 5
        }
      ]
    },
    {
      "cell_type": "markdown",
      "metadata": {
        "id": "VfoRlJKZKFRX"
      },
      "source": [
        "Задача: реализовать foldl через foldr и наоборот. Вместо многоточий нужно вставить выражения, которые бы привели к нужному результату. Модифицировать сам список нельзя. "
      ]
    },
    {
      "cell_type": "code",
      "metadata": {
        "jupyter": {
          "outputs_hidden": true
        },
        "id": "D1k-FxKJKFRX"
      },
      "source": [
        "def foldr2(f, x0, lst):\n",
        "    return foldl(lambda f_3,f_2: lambda f_1:f_3(f(f_1,f_2)), lambda x:x, lst)(x0)"
      ],
      "execution_count": null,
      "outputs": []
    },
    {
      "cell_type": "code",
      "metadata": {
        "jupyter": {
          "outputs_hidden": true
        },
        "id": "LmU-YJCyKFRX"
      },
      "source": [
        "def foldl2(f, x0, lst):\n",
        "    return foldr(lambda f_2,f_3: lambda f_1:f_3(f(f_1,f_2)), lambda x:x, lst)(x0)"
      ],
      "execution_count": null,
      "outputs": []
    },
    {
      "cell_type": "markdown",
      "metadata": {
        "id": "KfgRjs3FKFRX"
      },
      "source": [
        "# Задание 2\n",
        "\n",
        "нужно написать функцию, которая принимает две строки и проверяет, входит ли хотя бы одна перестановка второй строки в первую. Например:\n",
        "\n",
        "> a = 'abcrotm'\n",
        "> \n",
        "> b = 'tro'\n",
        "\n",
        "функция def check_inv(a, b) вернет True, так как 'rot' содержится в 'abcrotm'. Нужно подумать как можно более оптимальный алгоритм и оценить его сложность. "
      ]
    },
    {
      "cell_type": "code",
      "metadata": {
        "colab": {
          "base_uri": "https://localhost:8080/"
        },
        "id": "jSz4J241ppgr",
        "outputId": "0804e0fb-1261-4707-c347-baeb6dc30821"
      },
      "source": [
        "def cut(a,length):\n",
        "  new=[a[i:i+length] for i in range(len(a)-length+1)]\n",
        "  return new\n",
        "a = 'abcrotm'\n",
        "cut(a,3)\n"
      ],
      "execution_count": 1,
      "outputs": [
        {
          "output_type": "execute_result",
          "data": {
            "text/plain": [
              "['abc', 'bcr', 'cro', 'rot', 'otm']"
            ]
          },
          "metadata": {
            "tags": []
          },
          "execution_count": 1
        }
      ]
    },
    {
      "cell_type": "code",
      "metadata": {
        "colab": {
          "base_uri": "https://localhost:8080/",
          "height": 52
        },
        "id": "JBzLBod7ft_b",
        "outputId": "e8558e4e-feeb-4add-df53-04453b1df08d"
      },
      "source": [
        "from collections import Counter\n",
        "\n",
        "def check_inv(a, b):\n",
        "  podstr = Counter(b)\n",
        "  check = False\n",
        "  combinations = cut(a,len(b))\n",
        "  for comb in combinations:\n",
        "    comb_dict = Counter(comb)\n",
        "    if comb_dict == podstr:\n",
        "      check = True\n",
        "  return check\n",
        "\n",
        "a = 'abcaaaaaaaaaaa'\n",
        "b = 'aaaaaac'\n",
        "print(check_inv(a,b))\n",
        "\n",
        "\"\"\"O(len(a)- len(b) +1)\"\"\""
      ],
      "execution_count": 4,
      "outputs": [
        {
          "output_type": "stream",
          "text": [
            "True\n"
          ],
          "name": "stdout"
        },
        {
          "output_type": "execute_result",
          "data": {
            "application/vnd.google.colaboratory.intrinsic+json": {
              "type": "string"
            },
            "text/plain": [
              "'O(len(a)- len(b) +1)'"
            ]
          },
          "metadata": {
            "tags": []
          },
          "execution_count": 4
        }
      ]
    },
    {
      "cell_type": "markdown",
      "metadata": {
        "id": "BZo1-79KKFRX"
      },
      "source": [
        "# Задание 3\n",
        "\n",
        "Реализовать бинарное дерево (класс Tree), в нём методы __repr__, __str__, __iter__ (итерация только по листьям)."
      ]
    },
    {
      "cell_type": "code",
      "metadata": {
        "colab": {
          "base_uri": "https://localhost:8080/"
        },
        "id": "mk_20ErmKFRX",
        "outputId": "2a1db3c1-ba2b-4dee-ed4e-efe5bedca34d"
      },
      "source": [
        "class Tree:\n",
        "    def __init__(self, value=None, left=None, right=None):\n",
        "        self.left = left\n",
        "        self.right = right\n",
        "        self.value = value\n",
        "        \n",
        "    def __iter__(self):\n",
        "      if self.left:\n",
        "        yield from self.left\n",
        "      if self.right:\n",
        "        yield from self.right\n",
        "      else:\n",
        "        yield self.value\n",
        "    \n",
        "    def __str__(self):\n",
        "      tree=[str(self.value)]\n",
        "      if self.left:\n",
        "        tree.append(str(self.left.value))\n",
        "      if self.right:\n",
        "        tree.append(str(self.right.value))\n",
        "      return ''.join(tree)   \n",
        "\n",
        "\n",
        "    def __repr__(self):\n",
        "        if self.left == None and self.right == None:\n",
        "            return self.value.__repr__()\n",
        "        \n",
        "        if self.right == None:\n",
        "            return self.left.__repr__()\n",
        "        \n",
        "        if self.left == None:\n",
        "            return self.right.__repr__() \n",
        "        \n",
        "        \n",
        "        return str(self.value.__repr__)+ str(self.left.__repr__())+str(self.right.__repr__())\n",
        "    \n",
        "tree = Tree(0, Tree(1, Tree(3), Tree(4)),                             \n",
        "               Tree(2))\n",
        "\n",
        "list(tree) == [3, 4, 2]"
      ],
      "execution_count": null,
      "outputs": [
        {
          "output_type": "execute_result",
          "data": {
            "text/plain": [
              "True"
            ]
          },
          "metadata": {
            "tags": []
          },
          "execution_count": 37
        }
      ]
    },
    {
      "cell_type": "markdown",
      "metadata": {
        "id": "tIaSX4gMKFRX"
      },
      "source": [
        "# Задание 4\n",
        "\n",
        "Реализовать простейший калькулятор математических выражений:\n",
        "- только целые числа\n",
        "- **+**, **\\-**, **\\***, **\\**\n",
        "- скобки\n",
        "\n",
        "**Можно использовать регулярные выражения**"
      ]
    },
    {
      "cell_type": "code",
      "metadata": {
        "colab": {
          "base_uri": "https://localhost:8080/"
        },
        "id": "JLIuadMxKFRX",
        "outputId": "bfe3fc04-917e-4cc9-d525-f6c987e6d4a9"
      },
      "source": [
        "def calc(expr):\n",
        "  lst = []\n",
        "  s = equ.split(' ')\n",
        "  for zn in s:\n",
        "    if zn[0]=='(':\n",
        "      lst.append('(')\n",
        "      lst.append(zn[1:])\n",
        "    elif zn[-1] ==')':\n",
        "      lst.append(zn[:-1])\n",
        "      lst.append(')')\n",
        "    else:\n",
        "      lst.append(zn)\n",
        "  oper = []\n",
        "  final = []\n",
        "  for part in lst:\n",
        "          if part.isnumeric():\n",
        "              final.append(part)\n",
        "          if part =='/' or part =='*':\n",
        "              oper.append(part)\n",
        "          if part == '+' or part =='-':\n",
        "              while len(oper) > 0 and (oper[-1] =='/' or oper[-1]=='*'):\n",
        "                  final.append(oper.pop())\n",
        "              oper.append(part)\n",
        "          if part == \"(\":\n",
        "              oper.append(part)\n",
        "          if part == \")\":\n",
        "              while oper[-1] != \"(\":\n",
        "                  final.append(oper.pop())\n",
        "              oper.pop()\n",
        "  while len(oper)>0:\n",
        "    final.append(oper.pop())\n",
        "  print(final)\n",
        "  stack = []\n",
        "      \n",
        "  for zn in final:\n",
        "    if zn.isnumeric():\n",
        "      stack.append((zn))\n",
        "    if zn=='+' or zn =='-' or zn=='*' or zn=='/':\n",
        "      first = stack.pop()\n",
        "      stack.append(eval(str(stack.pop())+str(zn)+str(first)))\n",
        "  return stack[0]\n",
        "\n",
        "calc('2 * (15 - 3 * 4) - 2') == 4"
      ],
      "execution_count": null,
      "outputs": [
        {
          "output_type": "stream",
          "text": [
            "['2', '15', '3', '4', '*', '-', '*', '2', '-']\n"
          ],
          "name": "stdout"
        },
        {
          "output_type": "execute_result",
          "data": {
            "text/plain": [
              "True"
            ]
          },
          "metadata": {
            "tags": []
          },
          "execution_count": 116
        }
      ]
    },
    {
      "cell_type": "code",
      "metadata": {
        "jupyter": {
          "outputs_hidden": true
        },
        "id": "UZXR7-A5KFRX"
      },
      "source": [
        ""
      ],
      "execution_count": null,
      "outputs": []
    }
  ]
}