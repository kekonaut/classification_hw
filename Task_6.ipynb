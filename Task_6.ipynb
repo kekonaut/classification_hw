{
  "nbformat": 4,
  "nbformat_minor": 0,
  "metadata": {
    "kernelspec": {
      "display_name": "Python 3",
      "language": "python",
      "name": "python3"
    },
    "language_info": {
      "codemirror_mode": {
        "name": "ipython",
        "version": 3
      },
      "file_extension": ".py",
      "mimetype": "text/x-python",
      "name": "python",
      "nbconvert_exporter": "python",
      "pygments_lexer": "ipython3",
      "version": "3.6.9"
    },
    "colab": {
      "name": "Task_6.ipynb",
      "provenance": [],
      "collapsed_sections": []
    }
  },
  "cells": [
    {
      "cell_type": "markdown",
      "metadata": {
        "id": "ze7VG9TEJigL"
      },
      "source": [
        "## Данные\n",
        "\n",
        "Данные в [архиве](https://drive.google.com/file/d/15o7fdxTgndoy6K-e7g8g1M2-bOOwqZPl/view?usp=sharing). В нём два файла:\n",
        "- `news_train.txt` тренировочное множество\n",
        "- `news_test.txt` тренировочное множество\n",
        "\n",
        "С некоторых новостных сайтов были загружены тексты новостей за период  несколько лет, причем каждая новость принаделжит к какой-то рубрике: `science`, `style`, `culture`, `life`, `economics`, `business`, `travel`, `forces`, `media`, `sport`.\n",
        "\n",
        "В каждой строке файла содержится метка рубрики, заголовок новостной статьи и сам текст статьи, например:\n",
        "\n",
        ">    **sport**&nbsp;&lt;tab&gt;&nbsp;**Сборная Канады по хоккею разгромила чехов**&nbsp;&lt;tab&gt;&nbsp;**Сборная Канады по хоккею крупно об...**"
      ]
    },
    {
      "cell_type": "markdown",
      "metadata": {
        "id": "bz9tUpVCJigL"
      },
      "source": [
        "# Задача\n",
        "\n",
        "1. Обработать данные, получив для каждого текста набор токенов\n",
        "Обработать токены с помощью (один вариант из трех):\n",
        "    - pymorphy2\n",
        "    - русского [snowball стеммера](https://www.nltk.org/howto/stem.html)\n",
        "    - [SentencePiece](https://github.com/google/sentencepiece) или [Huggingface Tokenizers](https://github.com/huggingface/tokenizers)\n",
        "    \n",
        "    \n",
        "2. Обучить word embeddings (fastText, word2vec, gloVe) на тренировочных данных. Можно использовать [gensim](https://radimrehurek.com/gensim/models/word2vec.html) . Продемонстрировать семантические ассоциации. \n",
        "\n",
        "3. Реализовать алгоритм классификации, посчитать точноть на тестовых данных, подобрать гиперпараметры. Метод векторизации выбрать произвольно - можно использовать $tf-idf$ с понижением размерности (см. scikit-learn), можно использовать обученные на предыдущем шаге векторные представления, можно использовать [предобученные модели](https://rusvectores.org/ru/models/). Имейте ввиду, что простое \"усреднение\" токенов в тексте скорее всего не даст положительных результатов. Нужно реализовать два алгоритмов из трех:\n",
        "     - SVM\n",
        "     - наивный байесовский классификатор\n",
        "     - логистическая регрессия\n",
        "    \n",
        "\n",
        "4.* Реализуйте классификацию с помощью нейросетевых моделей. Например [RuBERT](http://docs.deeppavlov.ai/en/master/features/models/bert.html) или [ELMo](https://rusvectores.org/ru/models/)."
      ]
    },
    {
      "cell_type": "code",
      "metadata": {
        "id": "-0k-dE-OJigN"
      },
      "source": [
        "def normalize_text(text):\n",
        "    text = re.findall(r'\\b\\w+\\b', text.lower())\n",
        "    return ' '.join(text)\n",
        "\n",
        "\n",
        "def prepare_file(f_out, data):\n",
        "    with open(f_out, 'w', encoding='utf-8') as f:\n",
        "        for cat, headline, text in data:\n",
        "            f.write(normalize_text(headline))\n",
        "            f.write('\\n')\n",
        "            \n",
        "            sents = (sent for sent in re.split(r'[.!?]', text) if len(sent) > 20)\n",
        "    \n",
        "            for sent in sents:\n",
        "                f.write(normalize_text(sent))\n",
        "                f.write('\\n')\n"
      ],
      "execution_count": 6,
      "outputs": []
    },
    {
      "cell_type": "code",
      "metadata": {
        "colab": {
          "base_uri": "https://localhost:8080/"
        },
        "id": "nmxLaC0tHrMW",
        "outputId": "a4bedab9-f7a0-4fad-e341-4e4a5463e6c6"
      },
      "source": [
        "import re\n",
        "import smart_open as sm\n",
        "\n",
        "def read_data(path='/content/news.txt.gz'):\n",
        "    with sm.open(path, encoding='utf-8') as f:\n",
        "        for line in f:\n",
        "            cat, headline, text = line.strip().split('\\t')\n",
        "            yield cat, headline, text\n",
        "prepare_file('/content/news_train.txt', read_data())\n",
        "!head -n 5 /content/news_train.txt"
      ],
      "execution_count": 7,
      "outputs": [
        {
          "output_type": "stream",
          "text": [
            "rolex наградит победителей регаты\n",
            "парусная гонка giraglia rolex cup пройдет в средиземном море в 64 й раз\n",
            "победители соревнования проводимого с 1953 года yacht club italiano помимо других призов традиционно получают в подарок часы от швейцарского бренда rolex\n",
            "об этом сообщается в пресс релизе поступившем в редакцию ленты\n",
            "rolex yacht master 40 фото пресс служба mercury соревнования будут проходить с 10 по 18 июня\n"
          ],
          "name": "stdout"
        }
      ]
    },
    {
      "cell_type": "code",
      "metadata": {
        "colab": {
          "base_uri": "https://localhost:8080/"
        },
        "id": "FQrb7YVaLVaY",
        "outputId": "e0eeddc7-835b-4bf9-ecb7-ffb426f77fc8"
      },
      "source": [
        "!pip install sentencepiece\n",
        "import sentencepiece as spm\n",
        "spm.SentencePieceTrainer.Train('--input=/content/news_train.txt --model_prefix=model  --vocab_size=7000')"
      ],
      "execution_count": 8,
      "outputs": [
        {
          "output_type": "stream",
          "text": [
            "Requirement already satisfied: sentencepiece in /usr/local/lib/python3.6/dist-packages (0.1.94)\n"
          ],
          "name": "stdout"
        }
      ]
    },
    {
      "cell_type": "code",
      "metadata": {
        "colab": {
          "base_uri": "https://localhost:8080/"
        },
        "id": "0qFTXypOL_kR",
        "outputId": "a6f5eb50-8faf-4523-bd80-67a20d03e720"
      },
      "source": [
        "model = spm.SentencePieceProcessor(model_file='/content/model.model')\n",
        "model.EncodeAsPieces('ремонт')"
      ],
      "execution_count": 9,
      "outputs": [
        {
          "output_type": "execute_result",
          "data": {
            "text/plain": [
              "['▁ремонт']"
            ]
          },
          "metadata": {
            "tags": []
          },
          "execution_count": 9
        }
      ]
    },
    {
      "cell_type": "code",
      "metadata": {
        "id": "qptPs9xTNBzH"
      },
      "source": [
        "from gensim.models import Word2Vec\n",
        "sentences = [model.EncodeAsPieces(line.strip()) for line in open('/content/news_train.txt', encoding='utf-8', errors='ignore')]\n",
        "w2v = Word2Vec(sentences)\n",
        "w2v.wv.save_word2vec_format('/content/w2v_vectors.bin')"
      ],
      "execution_count": 10,
      "outputs": []
    },
    {
      "cell_type": "code",
      "metadata": {
        "colab": {
          "base_uri": "https://localhost:8080/"
        },
        "id": "b5CMNXE2NMKL",
        "outputId": "c450e550-69ea-4448-adec-a14c304ce339"
      },
      "source": [
        "w2v.wv.most_similar(model.EncodeAsPieces('ремонт'))"
      ],
      "execution_count": 11,
      "outputs": [
        {
          "output_type": "stream",
          "text": [
            "/usr/local/lib/python3.6/dist-packages/gensim/matutils.py:737: FutureWarning: Conversion of the second argument of issubdtype from `int` to `np.signedinteger` is deprecated. In future, it will be treated as `np.int64 == np.dtype(int).type`.\n",
            "  if np.issubdtype(vec.dtype, np.int):\n"
          ],
          "name": "stderr"
        },
        {
          "output_type": "execute_result",
          "data": {
            "text/plain": [
              "[('▁десант', 0.7085727453231812),\n",
              " ('▁пожар', 0.7067148685455322),\n",
              " ('▁молодеж', 0.6930320262908936),\n",
              " ('▁выявлен', 0.6883028745651245),\n",
              " ('▁масштаб', 0.6807860136032104),\n",
              " ('▁свадеб', 0.6799383759498596),\n",
              " ('▁дорож', 0.67743980884552),\n",
              " ('▁похищен', 0.6746872663497925),\n",
              " ('▁атом', 0.6698674559593201),\n",
              " ('▁расширен', 0.6687107682228088)]"
            ]
          },
          "metadata": {
            "tags": []
          },
          "execution_count": 11
        }
      ]
    },
    {
      "cell_type": "code",
      "metadata": {
        "id": "KSDsiLyQPDrO"
      },
      "source": [
        "import numpy as np\n",
        "emb_size = w2v.wv.vector_size\n",
        "def _piece_id_to_vect(piece_id):\n",
        "    piece = model.id_to_piece(piece_id) \n",
        "    for smallpiece in piece:\n",
        "        if smallpiece in w2v.wv:\n",
        "            return w2v.wv[smallpiece]\n",
        "        return np.zeros((emb_size,))\n",
        "emb = np.array([_piece_id_to_vect(piece_id) for piece_id in range(0, len(model))])\n",
        "np.save('vectors.npy', emb)"
      ],
      "execution_count": 12,
      "outputs": []
    },
    {
      "cell_type": "code",
      "metadata": {
        "colab": {
          "base_uri": "https://localhost:8080/"
        },
        "id": "fhwL3fDQFk0w",
        "outputId": "ad1e73b7-3985-44d8-b74e-140bcc9653b4"
      },
      "source": [
        "categories ={cat for (cat, _, _) in read_data()}\n",
        "categories = {cat:idx for (idx, cat) in enumerate(categories)}\n",
        "categories"
      ],
      "execution_count": 13,
      "outputs": [
        {
          "output_type": "execute_result",
          "data": {
            "text/plain": [
              "{'business': 1,\n",
              " 'culture': 2,\n",
              " 'economics': 5,\n",
              " 'forces': 8,\n",
              " 'life': 6,\n",
              " 'media': 9,\n",
              " 'science': 4,\n",
              " 'sport': 7,\n",
              " 'style': 3,\n",
              " 'travel': 0}"
            ]
          },
          "metadata": {
            "tags": []
          },
          "execution_count": 13
        }
      ]
    },
    {
      "cell_type": "code",
      "metadata": {
        "colab": {
          "base_uri": "https://localhost:8080/"
        },
        "id": "dU1bwTucGn_6",
        "outputId": "395d887f-ac1e-4408-b2b8-6f4b9a144d71"
      },
      "source": [
        "def prepare_text(text):\n",
        "    pieces = model.EncodeAsIds(text)\n",
        "    pieces = pieces[:120]\n",
        "    for i in range(0, 120 - len(pieces)):\n",
        "            pieces.append(0)\n",
        "    return np.array(pieces)\n",
        "\n",
        "def prepare_data():\n",
        "    X = []\n",
        "    y = []\n",
        "    for cat,headline,text in read_data():\n",
        "        X.append(prepare_text(headline+' '+text))\n",
        "        y.append(categories[cat])\n",
        "    return np.array(X), np.array(y)\n",
        "\n",
        "X, y = prepare_data()\n",
        "print(X)\n",
        "print(y)"
      ],
      "execution_count": 14,
      "outputs": [
        {
          "output_type": "stream",
          "text": [
            "[[   8    0 1185 ... 1209   26    8]\n",
            " [   8    0    5 ...    8    0  818]\n",
            " [   8    0 1031 ...    8    0   67]\n",
            " ...\n",
            " [   8    0   19 ...    0 6260   28]\n",
            " [   8    0  269 ...  823    8    0]\n",
            " [   8    0   19 ...    3   32 3271]]\n",
            "[3 7 9 ... 6 9 8]\n"
          ],
          "name": "stdout"
        }
      ]
    },
    {
      "cell_type": "code",
      "metadata": {
        "id": "vi_scMLWXoJN"
      },
      "source": [
        "import torch\n",
        "import torch.nn as nn\n",
        "import torch.nn.functional\n",
        "from torch.utils.data import TensorDataset, DataLoader, random_split,Dataset"
      ],
      "execution_count": 15,
      "outputs": []
    },
    {
      "cell_type": "code",
      "metadata": {
        "id": "5wvd4biUXw4r"
      },
      "source": [
        "emb_layer = nn.Embedding.from_pretrained(torch.tensor(emb), padding_idx=model.pad_id())\n"
      ],
      "execution_count": 16,
      "outputs": []
    },
    {
      "cell_type": "code",
      "metadata": {
        "colab": {
          "base_uri": "https://localhost:8080/"
        },
        "id": "A0l2EsGoYFto",
        "outputId": "f7d57b80-def1-47d1-8404-eb9127cc45d8"
      },
      "source": [
        "if torch.cuda.is_available():  \n",
        "  dev = \"cuda:0\" \n",
        "else:  \n",
        "  dev = \"cpu\"  \n",
        "device = torch.device(dev) \n",
        "X = torch.LongTensor(X)\n",
        "X.to(device)\n",
        "y = y.reshape(-1,1)\n",
        "y = torch.LongTensor(y)\n",
        "l = len(X)\n",
        "print(X)\n",
        "y.to(device)\n",
        "data = TensorDataset(X, y)\n",
        "print(data)\n",
        "train_data, test_data, val_data = random_split(data, [int(l * 0.7), int(l * 0.2), l - int(l * 0.7) - int(l * 0.2)])\n",
        "print(X.shape)\n",
        "y.shape"
      ],
      "execution_count": 17,
      "outputs": [
        {
          "output_type": "stream",
          "text": [
            "tensor([[   8,    0, 1185,  ..., 1209,   26,    8],\n",
            "        [   8,    0,    5,  ...,    8,    0,  818],\n",
            "        [   8,    0, 1031,  ...,    8,    0,   67],\n",
            "        ...,\n",
            "        [   8,    0,   19,  ...,    0, 6260,   28],\n",
            "        [   8,    0,  269,  ...,  823,    8,    0],\n",
            "        [   8,    0,   19,  ...,    3,   32, 3271]])\n",
            "<torch.utils.data.dataset.TensorDataset object at 0x7fa67181c1d0>\n",
            "torch.Size([10000, 120])\n"
          ],
          "name": "stdout"
        },
        {
          "output_type": "execute_result",
          "data": {
            "text/plain": [
              "torch.Size([10000, 1])"
            ]
          },
          "metadata": {
            "tags": []
          },
          "execution_count": 17
        }
      ]
    },
    {
      "cell_type": "code",
      "metadata": {
        "id": "lKDdwXWIfBM9"
      },
      "source": [
        "model = nn.Sequential(nn.EmbeddingBag.from_pretrained(torch.FloatTensor(emb)),nn.Linear(emb.shape[1], 10),nn.Linear(10, 10),nn.Softmax(dim=1)).to(device)\n"
      ],
      "execution_count": 18,
      "outputs": []
    },
    {
      "cell_type": "code",
      "metadata": {
        "colab": {
          "base_uri": "https://localhost:8080/",
          "height": 877
        },
        "id": "BasxBPZOfwCc",
        "outputId": "d3cf68fd-d4e1-42f4-ade7-83f2afc6d0d3"
      },
      "source": [
        "import matplotlib.pyplot as plt\n",
        "def train_model(model, train_data, val_data, max_epochs=100):\n",
        "    losses = []\n",
        "    optimizer = torch.optim.Adam(model.parameters(), lr=1e-3,weight_decay=0.1)\n",
        "    loss = nn.CrossEntropyLoss()\n",
        "    train_loader = DataLoader(dataset=train_data, batch_size=1000, shuffle=True)\n",
        "    for epoch in range(max_epochs):\n",
        "        correct = 0\n",
        "        total = 0\n",
        "        for X_batch, y_batch in train_loader:\n",
        "            model = model.train()\n",
        "            y_pred = model(X_batch)\n",
        "            loss1 = loss(y_pred, torch.max(y_batch, 1)[1])\n",
        "            losses.append(loss(model(X),torch.max(y, 1)[1]))\n",
        "            total += y_batch.size(0)\n",
        "            correct += (y_pred.argmax(1) == y_batch).sum().item()\n",
        "            loss1.backward()\n",
        "            optimizer.step()\n",
        "            optimizer.zero_grad()\n",
        "        if epoch % 5 == 0:\n",
        "            acc = correct / total\n",
        "            print(f'Epoch = {epoch}, acc = {acc}, loss = {loss1}')\n",
        "            #print(f'VAL:  Epoch = {epoch},acc ={Validate(model,val_data)} ')\n",
        "    return losses\n",
        "losses = train_model(model, train_data, val_data)\n",
        "plt.figure(figsize=(16, 9))\n",
        "plt.plot(losses)\n",
        "plt.show()"
      ],
      "execution_count": 19,
      "outputs": [
        {
          "output_type": "stream",
          "text": [
            "Epoch = 0, acc = 93.35885714285715, loss = 2.2664129734039307\n",
            "Epoch = 5, acc = 20.142857142857142, loss = 1.5275580883026123\n",
            "Epoch = 10, acc = 20.142857142857142, loss = 1.4850131273269653\n",
            "Epoch = 15, acc = 20.142857142857142, loss = 1.4878826141357422\n",
            "Epoch = 20, acc = 20.142857142857142, loss = 1.485174298286438\n",
            "Epoch = 25, acc = 20.142857142857142, loss = 1.4822618961334229\n",
            "Epoch = 30, acc = 20.142857142857142, loss = 1.4809824228286743\n",
            "Epoch = 35, acc = 20.142857142857142, loss = 1.4800984859466553\n",
            "Epoch = 40, acc = 20.142857142857142, loss = 1.4796217679977417\n",
            "Epoch = 45, acc = 20.142857142857142, loss = 1.4779449701309204\n",
            "Epoch = 50, acc = 20.142857142857142, loss = 1.4783583879470825\n",
            "Epoch = 55, acc = 20.142857142857142, loss = 1.4785254001617432\n",
            "Epoch = 60, acc = 20.142857142857142, loss = 1.4775692224502563\n",
            "Epoch = 65, acc = 20.142857142857142, loss = 1.4768937826156616\n",
            "Epoch = 70, acc = 20.142857142857142, loss = 1.4768203496932983\n",
            "Epoch = 75, acc = 20.142857142857142, loss = 1.47686767578125\n",
            "Epoch = 80, acc = 20.142857142857142, loss = 1.4778742790222168\n",
            "Epoch = 85, acc = 20.142857142857142, loss = 1.4773321151733398\n",
            "Epoch = 90, acc = 20.142857142857142, loss = 1.4769037961959839\n",
            "Epoch = 95, acc = 20.142857142857142, loss = 1.477407693862915\n"
          ],
          "name": "stdout"
        },
        {
          "output_type": "display_data",
          "data": {
            "image/png": "[encoded data removed]",
            "text/plain": [
              "<Figure size 1152x648 with 1 Axes>"
            ]
          },
          "metadata": {
            "tags": [],
            "needs_background": "light"
          }
        }
      ]
    },
    {
      "cell_type": "code",
      "metadata": {
        "colab": {
          "base_uri": "https://localhost:8080/"
        },
        "id": "ZEP-nA-iqgWY",
        "outputId": "59bc53bd-b31c-41cb-e04f-776b44ff16d8"
      },
      "source": [
        "from sklearn.naive_bayes import MultinomialNB\n",
        "model_G =MultinomialNB()\n",
        "model_G.fit(X, y)\n",
        "predicted= model_G.predict(X)\n",
        "print(predicted)\n",
        "print(y)"
      ],
      "execution_count": 26,
      "outputs": [
        {
          "output_type": "stream",
          "text": [
            "[3 5 3 ... 4 5 8]\n",
            "tensor([[3],\n",
            "        [7],\n",
            "        [9],\n",
            "        ...,\n",
            "        [6],\n",
            "        [9],\n",
            "        [8]])\n"
          ],
          "name": "stdout"
        },
        {
          "output_type": "stream",
          "text": [
            "/usr/local/lib/python3.6/dist-packages/sklearn/utils/validation.py:760: DataConversionWarning: A column-vector y was passed when a 1d array was expected. Please change the shape of y to (n_samples, ), for example using ravel().\n",
            "  y = column_or_1d(y, warn=True)\n"
          ],
          "name": "stderr"
        }
      ]
    }
  ]
}
