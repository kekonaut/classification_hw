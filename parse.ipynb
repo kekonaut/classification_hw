{
  "nbformat": 4,
  "nbformat_minor": 0,
  "metadata": {
    "colab": {
      "name": "Untitled9.ipynb",
      "provenance": []
    },
    "kernelspec": {
      "name": "python3",
      "display_name": "Python 3"
    }
  },
  "cells": [
    {
      "cell_type": "code",
      "metadata": {
        "id": "kcANnfyXRrnz"
      },
      "source": [
        "from bs4 import BeautifulSoup\n",
        "import requests\n",
        "import pandas as pd\n",
        "\n",
        "base_url = 'http://notelections.online'"
      ],
      "execution_count": 29,
      "outputs": []
    },
    {
      "cell_type": "code",
      "metadata": {
        "id": "DRWM-umeVmXW"
      },
      "source": [
        "url = 'http://notelections.online/region/region/st-petersburg?action=show&root=1&tvd=27820001217417&vrn=27820001217413&region=78&global=&sub_region=78&prver=0&pronetvd=null&vibid=27820001217417&type=222'"
      ],
      "execution_count": 30,
      "outputs": []
    },
    {
      "cell_type": "code",
      "metadata": {
        "id": "vHv5tZYnH3LO"
      },
      "source": [
        "data = pd.DataFrame(columns = ['ТИК','УИК'])\n",
        "response = requests.get(url)\n",
        "soup = BeautifulSoup(response.text, 'html.parser')\n",
        "tiks = soup.find_all('a', style='text-decoration: none')\n",
        "tiks.pop(-1)\n",
        "soup = BeautifulSoup(requests.get('http://notelections.online' + tiks[0].get('href')).text, 'html.parser')\n",
        "candidats = soup.find_all('table', bgcolor='#ffffff', cellpadding='2', cellspacing='1')[0].find_all('td', style='color:black', align='left', width='50')\n",
        "cand = []\n",
        "for candidat in candidats:\n",
        "  cand.append(candidat.text)\n",
        "candidats = pd.DataFrame(columns = cand)\n",
        "data = pd.concat([data,candidats])\n"
      ],
      "execution_count": 33,
      "outputs": []
    },
    {
      "cell_type": "code",
      "metadata": {
        "id": "Pb2WThj4Xi5X"
      },
      "source": [
        "for tik in tiks:\n",
        "  import pdb\n",
        "  soup = BeautifulSoup(requests.get('http://notelections.online' + tik.get('href')).text, 'html.parser')\n",
        "  find = soup.find_all('table', bgcolor='#ffffff', cellpadding='2', cellspacing='1')[-1]\n",
        "  uiks = find.find_all('nobr')\n",
        "  try:\n",
        "    uik = len(find.find_all('tr', valign='top')[0].find_all('td'))\n",
        "  except:\n",
        "    pass\n",
        "    #pdb.set_trace()\n",
        "  for i in range(uik):\n",
        "    main=[uiks[k].text for k in range(i, i + uik * 14 + 1, uik)]\n",
        "    data.loc[len(data)] = [tik.text, *main]"
      ],
      "execution_count": 35,
      "outputs": []
    },
    {
      "cell_type": "code",
      "metadata": {
        "id": "URwYbvdSM7mX"
      },
      "source": [
        "data.to_csv('parsing.csv', index=False)"
      ],
      "execution_count": 37,
      "outputs": []
    },
    {
      "cell_type": "code",
      "metadata": {
        "id": "WkjIgjZNWIsQ"
      },
      "source": [
        ""
      ],
      "execution_count": null,
      "outputs": []
    }
  ]
}