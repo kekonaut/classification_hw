{
  "nbformat": 4,
  "nbformat_minor": 0,
  "metadata": {
    "kernelspec": {
      "display_name": "Python 3",
      "language": "python",
      "name": "python3"
    },
    "language_info": {
      "codemirror_mode": {
        "name": "ipython",
        "version": 3
      },
      "file_extension": ".py",
      "mimetype": "text/x-python",
      "name": "python",
      "nbconvert_exporter": "python",
      "pygments_lexer": "ipython3",
      "version": "3.8.3-final"
    },
    "colab": {
      "name": "Task_5.ipynb",
      "provenance": [],
      "toc_visible": true
    }
  },
  "cells": [
    {
      "cell_type": "markdown",
      "metadata": {
        "id": "0lXnGJ5jXZeC"
      },
      "source": [
        "## Часть 1\n",
        "Напишите скрипт, который скачивает все данные с выборов губернатора СПб 2019г для всех избирательных участков. \n",
        "\n",
        "Входная точка [по ссылке](http://notelections.online/region/region/st-petersburg?action=show&root=1&tvd=27820001217417&vrn=27820001217413&region=78&global=&sub_region=78&prver=0&pronetvd=null&vibid=27820001217417&type=222). Затем нужно перейти на сайты территориальных избирательных комиссий. Результаты нужно сохранить в  `cvs`-файл, `sqlite` базе данных или `parquet`-файле. В итоге должна получиться таблица с полями:\n",
        "- название ТИК (территориальная избирательная комиссия, некоторое объединение избирательных участков на определенной территории)\n",
        "- номер УИК (избирательный участок)\n",
        "- 14 стандартных полей из итогового протокола\n",
        "\n",
        "Скрипт должен быть в отдельном `*.py` файле или в отдельном `jupyter`-ноутбуке. "
      ]
    },
    {
      "cell_type": "markdown",
      "metadata": {
        "id": "U4TI6vjIXZeJ"
      },
      "source": [
        "### Часть 2\n",
        "Используя скаченные данные и `Pandas` (или `PySpark`) посчитайте:\n",
        "- явку (%) по всем ТИК, результат отсортировать по убыванию\n",
        "- выберите произвольного кандидата и найдите тот избиратльный участок, на котором он получил наибольший результат  (%, учитывать участки на которых проголосовало больше 100 человек)\n",
        "- найдите ТИК, где разница между УИК с наибольшей явкой и наименьшей максимальна\n",
        "- посчитайте дисперсию по явке для каждого ТИК (учитывать УИК)\n",
        "- для каждого кандидата посчитайте таблицу: результат (%, округленный до целого) - количество УИК, на которых кандидат получил данный результат\n",
        "- визуализируйте отношение - явка на УИК $\\rightarrow$ результат кандидата. "
      ]
    },
    {
      "cell_type": "code",
      "metadata": {
        "id": "Roy7usr_XZeK"
      },
      "source": [
        "import pandas as pd\n",
        "import matplotlib.pyplot as plt\n",
        "data = pd.read_csv('/content/parsing.csv')\n"
      ],
      "execution_count": 1,
      "outputs": []
    },
    {
      "cell_type": "code",
      "metadata": {
        "colab": {
          "base_uri": "https://localhost:8080/"
        },
        "id": "a41raBO1XZeL",
        "outputId": "a618bb99-9d26-4ea7-ae67-cde41aa9a455"
      },
      "source": [
        "first_sum = data.groupby('ТИК')['Число избирательных бюллетеней, содержащихся в переносных ящиках для голосования'].sum()\n",
        "second_sum = data.groupby('ТИК')['Число избирательных бюллетеней, содержащихся в стационарных ящиках для голосования'].sum()\n",
        "znam = data.groupby('ТИК')['Число избирателей, внесенных в список избирателей на момент окончания голосования'].sum()\n",
        "result = (first_sum+second_sum)/znam\n",
        "100*result.sort_values(ascending = False)\n",
        "\n"
      ],
      "execution_count": 2,
      "outputs": [
        {
          "output_type": "execute_result",
          "data": {
            "text/plain": [
              "ТИК\n",
              "Территориальная избирательная комиссия №18    50.738082\n",
              "Территориальная избирательная комиссия №15    40.007388\n",
              "Территориальная избирательная комиссия №13    39.645501\n",
              "Территориальная избирательная комиссия №19    37.665543\n",
              "Территориальная избирательная комиссия №8     36.005571\n",
              "Территориальная избирательная комиссия №20    33.709120\n",
              "Территориальная избирательная комиссия №9     33.263883\n",
              "Территориальная избирательная комиссия №22    32.372744\n",
              "Территориальная избирательная комиссия №30    31.965363\n",
              "Территориальная избирательная комиссия №2     31.659354\n",
              "Территориальная избирательная комиссия №1     31.302246\n",
              "Территориальная избирательная комиссия №10    30.476680\n",
              "Территориальная избирательная комиссия №29    30.418908\n",
              "Территориальная избирательная комиссия №4     30.332360\n",
              "Территориальная избирательная комиссия №21    29.082799\n",
              "Территориальная избирательная комиссия №7     28.931738\n",
              "Территориальная избирательная комиссия №25    28.858547\n",
              "Территориальная избирательная комиссия №17    28.210693\n",
              "Территориальная избирательная комиссия №16    28.099059\n",
              "Территориальная избирательная комиссия №23    27.429598\n",
              "Территориальная избирательная комиссия №14    27.346142\n",
              "Территориальная избирательная комиссия №28    27.152356\n",
              "Территориальная избирательная комиссия №11    26.723890\n",
              "Территориальная избирательная комиссия №5     26.685695\n",
              "Территориальная избирательная комиссия №24    26.533333\n",
              "Территориальная избирательная комиссия №3     26.476921\n",
              "Территориальная избирательная комиссия №12    26.280128\n",
              "Территориальная избирательная комиссия №26    26.228803\n",
              "Территориальная избирательная комиссия №6     24.978331\n",
              "Территориальная избирательная комиссия №27    24.758727\n",
              "dtype: float64"
            ]
          },
          "metadata": {
            "tags": []
          },
          "execution_count": 2
        }
      ]
    },
    {
      "cell_type": "code",
      "metadata": {
        "colab": {
          "base_uri": "https://localhost:8080/"
        },
        "id": "NZVgSlqbXZeN",
        "outputId": "079e024d-5826-42d9-ec4b-e237487352a5"
      },
      "source": [
        "data['people'] = data['Число избирательных бюллетеней, содержащихся в переносных ящиках для голосования'] + data['Число избирательных бюллетеней, содержащихся в стационарных ящиках для голосования']\n",
        "newdata = data[data['people']>100]\n",
        "ser = pd.Series(data = newdata['Тихонова Надежда Геннадьевна']/newdata['people'],index = data.index)\n",
        "100*ser.sort_values(ascending=False)\n"
      ],
      "execution_count": 3,
      "outputs": [
        {
          "output_type": "execute_result",
          "data": {
            "text/plain": [
              "1094    47.515528\n",
              "272     43.813131\n",
              "1090    40.654206\n",
              "269     39.936102\n",
              "271     37.740385\n",
              "          ...    \n",
              "1611          NaN\n",
              "1889          NaN\n",
              "1893          NaN\n",
              "2008          NaN\n",
              "2010          NaN\n",
              "Length: 2021, dtype: float64"
            ]
          },
          "metadata": {
            "tags": []
          },
          "execution_count": 3
        }
      ]
    },
    {
      "cell_type": "code",
      "metadata": {
        "colab": {
          "base_uri": "https://localhost:8080/",
          "height": 35
        },
        "id": "YcSXZBy-XZeO",
        "outputId": "91ab90e1-b18d-4746-9f5a-ff3308df79ca"
      },
      "source": [
        "data['Явка'] = (data['Число избирательных бюллетеней, содержащихся в переносных ящиках для голосования'] + data['Число избирательных бюллетеней, содержащихся в стационарных ящиках для голосования']) / data['Число избирателей, внесенных в список избирателей на момент окончания голосования']\n",
        "(data.groupby('ТИК')['Явка'].max() - data.groupby('ТИК')['Явка'].min()).idxmax()\n",
        "\n"
      ],
      "execution_count": 4,
      "outputs": [
        {
          "output_type": "execute_result",
          "data": {
            "application/vnd.google.colaboratory.intrinsic+json": {
              "type": "string"
            },
            "text/plain": [
              "'Территориальная избирательная комиссия №17'"
            ]
          },
          "metadata": {
            "tags": []
          },
          "execution_count": 4
        }
      ]
    },
    {
      "cell_type": "code",
      "metadata": {
        "colab": {
          "base_uri": "https://localhost:8080/"
        },
        "id": "lrxuB9mCXZeO",
        "outputId": "5b30ea5c-f626-44b7-9d14-08f9eca7b3ba"
      },
      "source": [
        "data.groupby('ТИК')['Явка'].var()"
      ],
      "execution_count": 5,
      "outputs": [
        {
          "output_type": "execute_result",
          "data": {
            "text/plain": [
              "ТИК\n",
              "Территориальная избирательная комиссия №1     0.019176\n",
              "Территориальная избирательная комиссия №10    0.007428\n",
              "Территориальная избирательная комиссия №11    0.024049\n",
              "Территориальная избирательная комиссия №12    0.003220\n",
              "Территориальная избирательная комиссия №13    0.039352\n",
              "Территориальная избирательная комиссия №14    0.003146\n",
              "Территориальная избирательная комиссия №15    0.041623\n",
              "Территориальная избирательная комиссия №16    0.011306\n",
              "Территориальная избирательная комиссия №17    0.033070\n",
              "Территориальная избирательная комиссия №18    0.024045\n",
              "Территориальная избирательная комиссия №19    0.020498\n",
              "Территориальная избирательная комиссия №2     0.046172\n",
              "Территориальная избирательная комиссия №20    0.017360\n",
              "Территориальная избирательная комиссия №21    0.031005\n",
              "Территориальная избирательная комиссия №22    0.045146\n",
              "Территориальная избирательная комиссия №23    0.059075\n",
              "Территориальная избирательная комиссия №24    0.027265\n",
              "Территориальная избирательная комиссия №25    0.000844\n",
              "Территориальная избирательная комиссия №26    0.022018\n",
              "Территориальная избирательная комиссия №27    0.020655\n",
              "Территориальная избирательная комиссия №28    0.039163\n",
              "Территориальная избирательная комиссия №29    0.024188\n",
              "Территориальная избирательная комиссия №3     0.007303\n",
              "Территориальная избирательная комиссия №30    0.052221\n",
              "Территориальная избирательная комиссия №4     0.022297\n",
              "Территориальная избирательная комиссия №5     0.013666\n",
              "Территориальная избирательная комиссия №6     0.002043\n",
              "Территориальная избирательная комиссия №7     0.006799\n",
              "Территориальная избирательная комиссия №8     0.026004\n",
              "Территориальная избирательная комиссия №9     0.011464\n",
              "Name: Явка, dtype: float64"
            ]
          },
          "metadata": {
            "tags": []
          },
          "execution_count": 5
        }
      ]
    },
    {
      "cell_type": "code",
      "metadata": {
        "colab": {
          "base_uri": "https://localhost:8080/"
        },
        "id": "tPGv1Q8qXZeP",
        "outputId": "983ae8cf-e3e0-4196-c3e3-2a5600d31acd"
      },
      "source": [
        "data['Амосов Михаил Иванович'] = (100*(data['Амосов Михаил Иванович'] / data['people'])).astype('int32')\n",
        "data['Беглов Александр Дмитриевич'] = (100*(data['Беглов Александр Дмитриевич'] / data['people'])).astype('int32')\n",
        "data['Тихонова Надежда Геннадьевна'] = (100*(data['Тихонова Надежда Геннадьевна'] / data['people'])).astype('int32')\n",
        "print(data.groupby('Амосов Михаил Иванович')['УИК'].count())\n",
        "print(data.groupby('Беглов Александр Дмитриевич')['УИК'].count())\n",
        "print(data.groupby('Тихонова Надежда Геннадьевна')['УИК'].count())\n"
      ],
      "execution_count": 6,
      "outputs": [
        {
          "output_type": "stream",
          "text": [
            "Амосов Михаил Иванович\n",
            "0       5\n",
            "1       4\n",
            "2       4\n",
            "3      12\n",
            "4       9\n",
            "5      24\n",
            "6      31\n",
            "7      35\n",
            "8      65\n",
            "9      77\n",
            "10     84\n",
            "11    109\n",
            "12    124\n",
            "13    146\n",
            "14    138\n",
            "15    159\n",
            "16    149\n",
            "17    144\n",
            "18    111\n",
            "19     99\n",
            "20     82\n",
            "21     79\n",
            "22     58\n",
            "23     56\n",
            "24     50\n",
            "25     33\n",
            "26     45\n",
            "27     22\n",
            "28     19\n",
            "29     19\n",
            "30     11\n",
            "31      5\n",
            "32      6\n",
            "33      1\n",
            "34      2\n",
            "35      3\n",
            "41      1\n",
            "Name: УИК, dtype: int64\n",
            "Беглов Александр Дмитриевич\n",
            "30    1\n",
            "31    1\n",
            "32    1\n",
            "33    1\n",
            "37    2\n",
            "     ..\n",
            "92    2\n",
            "93    4\n",
            "94    2\n",
            "95    1\n",
            "97    2\n",
            "Name: УИК, Length: 64, dtype: int64\n",
            "Тихонова Надежда Геннадьевна\n",
            "0       3\n",
            "1       4\n",
            "2       8\n",
            "3      10\n",
            "4      11\n",
            "5      25\n",
            "6      14\n",
            "7      29\n",
            "8      37\n",
            "9      49\n",
            "10     45\n",
            "11     69\n",
            "12     75\n",
            "13     87\n",
            "14    129\n",
            "15    174\n",
            "16    211\n",
            "17    197\n",
            "18    186\n",
            "19    170\n",
            "20    141\n",
            "21    114\n",
            "22     79\n",
            "23     46\n",
            "24     21\n",
            "25     19\n",
            "26     12\n",
            "27     12\n",
            "28      6\n",
            "29      6\n",
            "30      6\n",
            "31      6\n",
            "32      2\n",
            "33      4\n",
            "34      5\n",
            "35      2\n",
            "36      2\n",
            "37      1\n",
            "39      1\n",
            "40      1\n",
            "43      1\n",
            "47      1\n",
            "Name: УИК, dtype: int64\n"
          ],
          "name": "stdout"
        }
      ]
    },
    {
      "cell_type": "markdown",
      "metadata": {
        "id": "3wkUHhMHXZeP"
      },
      "source": [
        "явка на УИК  → результат кандидата(Амосов)"
      ]
    },
    {
      "cell_type": "code",
      "metadata": {
        "colab": {
          "base_uri": "https://localhost:8080/",
          "height": 285
        },
        "id": "0NdzriXwXZeQ",
        "outputId": "f198f9c2-7e60-4215-d9c0-324f1229d0cc"
      },
      "source": [
        "plt.plot(data.groupby('Явка')['Беглов Александр Дмитриевич'].mean())"
      ],
      "execution_count": 14,
      "outputs": [
        {
          "output_type": "execute_result",
          "data": {
            "text/plain": [
              "[<matplotlib.lines.Line2D at 0x7fb962537630>]"
            ]
          },
          "metadata": {
            "tags": []
          },
          "execution_count": 14
        },
        {
          "output_type": "display_data",
          "data": {
            "image/png": "[encoded data removed]",
            "text/plain": [
              "<Figure size 432x288 with 1 Axes>"
            ]
          },
          "metadata": {
            "tags": [],
            "needs_background": "light"
          }
        }
      ]
    },
    {
      "cell_type": "code",
      "metadata": {
        "id": "8Zd6wwjfXZeQ"
      },
      "source": [
        ""
      ],
      "execution_count": null,
      "outputs": []
    }
  ]
}